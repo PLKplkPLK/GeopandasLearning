{
 "cells": [
  {
   "cell_type": "markdown",
   "id": "e86fb214",
   "metadata": {
    "deletable": false,
    "editable": false,
    "nbgrader": {
     "cell_type": "markdown",
     "checksum": "a4d572b9cb35f7417343f3db3cd5a898",
     "grade": false,
     "grade_id": "cell-fcd2666579131b77",
     "locked": true,
     "schema_version": 3,
     "solution": false,
     "task": false
    },
    "tags": []
   },
   "source": [
    "# Analiza danych przestrzennych - ćwiczenia laboratoryjne 2022/2023\n",
    "\n",
    "Ten notatnik zalicza się do grupy zestawów zadań, na podstawie których odbywa się zaliczenie ćwiczeń i podlega zwrotowi do oceny w ustalonym na zajęciach terminie.\n",
    "\n",
    "Uwagi ogólne:\n",
    "- Podczas wykonywania zadań należy korzystać wyłącznie z pakietów zaimportowanych na początku notatnika oraz z pakietów wchodzących w skład standardowej biblioteki Pythona, które można zaimportować samodzielnie we wskazanej komórce.\n",
    "- Swoje rozwiązania należy wprowadzać wyłącznie w miejce następujących fragmentów kodu:<br/> ` # YOUR CODE HERE`<br/> ` raise NotImplementedError()`<br/> Nie należy w żaden sposób modyfikować pozostałych fragmentów kodu oraz elementów notatnika, w szczególności dodawać lub usuwać komórek oraz zmieniać nazwy pliku.\n",
    "- Jeżeli zestaw zadań wymaga skorzystania z funkcji przygotowanych w ramach wcześniejszych zestawów zadań należy je umieścić we wskazanej komórce.\n",
    "- Wszystkie wykresy powinny być wykonane w jednolitym, przejrzystym i czytelnym stylu, mieć nadane tytuły, opisane osie oraz odpowiednio dobrany rozmiar, wielkość punktów i grubość linii. Proporcje osi wykresów przedstawiających rozkłady punktów powinny być dobrane tak, aby wykresy odzwierciedlały rzeczywisty rozkład punktów w przestrzeni.\n",
    "- Zadania, które powodują wyświetlenie komunikatu o błędzie przerywającym wykonywanie kodu nie podlegają ocenie.\n",
    "\n",
    "Przed odesłaniem zestawu zadań do oceny proszę uzupełnić komórkę z danymi autorów rozwiązania (`NAME` - nazwa grupy, `COLLABORATORS` - imiona, nazwiska i numery indeksów członków grupy) oraz upewnić się, że notatnik działa zgodnie z oczekiwaniami. W tym celu należy skorzystać z opcji **Restart Kernel and Run All Cells...** dostępnej na górnej belce notatnika pod symbolem $\\blacktriangleright\\blacktriangleright$. "
   ]
  },
  {
   "cell_type": "code",
   "execution_count": null,
   "id": "79994c75",
   "metadata": {},
   "outputs": [],
   "source": [
    "COLLABORATORS = \"Zuzanna Stachura, Kacper Muller, Paweł Żurowski, Mikołaj Marton\""
   ]
  },
  {
   "cell_type": "markdown",
   "id": "3fc15a2f",
   "metadata": {
    "deletable": false,
    "editable": false,
    "nbgrader": {
     "cell_type": "markdown",
     "checksum": "eddc8826810e4a6f7bf68319da334bd9",
     "grade": false,
     "grade_id": "cell-109006d425e5cf83",
     "locked": true,
     "schema_version": 3,
     "solution": false,
     "task": false
    },
    "tags": []
   },
   "source": [
    "---"
   ]
  },
  {
   "cell_type": "markdown",
   "id": "09ae627f-7781-432c-92be-054e5c5f19d0",
   "metadata": {
    "deletable": false,
    "editable": false,
    "nbgrader": {
     "cell_type": "markdown",
     "checksum": "86e3f7a48b94cad93da0ec8fbfa298b2",
     "grade": false,
     "grade_id": "cell-be413733df21fa86",
     "locked": true,
     "schema_version": 3,
     "solution": false,
     "task": false
    },
    "tags": []
   },
   "source": [
    "## Zestaw zadań 8: Analiza danych przestrzennych z wykorzystaniem pakietów GeoPandas i PySAL (część 2)"
   ]
  },
  {
   "cell_type": "code",
   "execution_count": 1,
   "id": "1d9566ae-0c1b-4f68-9203-c5924a3651ae",
   "metadata": {
    "deletable": false,
    "editable": false,
    "nbgrader": {
     "cell_type": "code",
     "checksum": "29dc1af3dadc2aa89c6596343c570512",
     "grade": false,
     "grade_id": "cell-baaf088fa7f91aec",
     "locked": true,
     "schema_version": 3,
     "solution": false,
     "task": false
    },
    "tags": []
   },
   "outputs": [],
   "source": [
    "import numpy as np\n",
    "import pandas as pd\n",
    "import scipy as sp\n",
    "import matplotlib as mpl\n",
    "import matplotlib.pyplot as plt\n",
    "import seaborn as sns\n",
    "import geopandas as gpd\n",
    "import libpysal as ps\n",
    "import pointpats as pp\n",
    "\n",
    "import warnings\n",
    "warnings.simplefilter(action='ignore', category=FutureWarning)"
   ]
  },
  {
   "cell_type": "code",
   "execution_count": 2,
   "id": "316bb8bc-c226-49f2-9e30-21fcf0edd040",
   "metadata": {},
   "outputs": [],
   "source": [
    "# Miejsce do importu pakietów wchodzących w skład standardowej biblioteki Pythona oraz ustawienie opcji wykorzystywanych pakietów"
   ]
  },
  {
   "cell_type": "code",
   "execution_count": 3,
   "id": "c6aefef5-b6e6-4e97-a057-747d6510634c",
   "metadata": {
    "deletable": false,
    "nbgrader": {
     "cell_type": "code",
     "checksum": "e935139666652c455055a85f8dafa325",
     "grade": true,
     "grade_id": "cell-39e468ed0fe5cb73",
     "locked": false,
     "points": 0,
     "schema_version": 3,
     "solution": true,
     "task": false
    },
    "tags": []
   },
   "outputs": [],
   "source": [
    "# Miejsce do wklejenie funkcji ze wcześniejszych zestawów zadań\n",
    "# YOUR CODE HERE\n",
    "#pip install libpysal\n",
    "#pip install pointpats\n",
    "#zad z zz_10 - na kolokwium dopiero od drugiego terminu\n",
    "#odnosnie nowych pakietow: dokumentacja w internecie nieaktualna, lepiej wpisać help\n",
    "#dwa zadania potrzebuja konwersji polygon z gpd do pysal funkcja poniżej"
   ]
  },
  {
   "cell_type": "code",
   "execution_count": 4,
   "id": "379af71f-abfe-4ff0-951d-7a500905c939",
   "metadata": {
    "deletable": false,
    "editable": false,
    "nbgrader": {
     "cell_type": "code",
     "checksum": "6b38f6bbd2bccf556a307d5d9d0409a0",
     "grade": false,
     "grade_id": "cell-5eb16a4bc0a0f466",
     "locked": true,
     "schema_version": 3,
     "solution": false,
     "task": false
    },
    "tags": []
   },
   "outputs": [],
   "source": [
    "# Przydatne funkcje\n",
    "\n",
    "def geopandas2pysal(polygon):\n",
    "    x,y = polygon.exterior.coords.xy\n",
    "    coords = np.dstack((x,y)).tolist()\n",
    "    polygon = ps.cg.Polygon(coords)\n",
    "    return polygon"
   ]
  },
  {
   "cell_type": "markdown",
   "id": "603eda5e-a368-4dd6-ae49-964d6b182347",
   "metadata": {
    "deletable": false,
    "editable": false,
    "nbgrader": {
     "cell_type": "markdown",
     "checksum": "285f010d191f782718ef19cbbb39fe95",
     "grade": false,
     "grade_id": "cell-fc7371614e21ef35",
     "locked": true,
     "schema_version": 3,
     "solution": false,
     "task": false
    },
    "tags": []
   },
   "source": [
    "#### UWAGA!\n",
    "Znaczna część przykładów i dokumentacji modułów wchodzących w skład pakietu pysal dostępna w internecie nie dotyczny ich najnowszych wersji.\n",
    "Z tego powodu wygodniejszym sposobem zdobywania informacji na temat wykorzystywanych modułów, klas i funkcji jest wykorzystanie funkcji help(), np.: help(ps), help(pp), help(pp.pointpattern)."
   ]
  },
  {
   "cell_type": "markdown",
   "id": "11653a05-5bd0-4169-87cb-e5173bd99c66",
   "metadata": {
    "deletable": false,
    "editable": false,
    "nbgrader": {
     "cell_type": "markdown",
     "checksum": "469e16f1fa1ab8fdb5178a4897549ecc",
     "grade": false,
     "grade_id": "cell-3d9b6dc04e7b8e64",
     "locked": true,
     "schema_version": 3,
     "solution": false,
     "task": false
    },
    "tags": []
   },
   "source": [
    "### Zadanie 1: Import i przygotowanie danych (5 pkt)\n",
    "Wykorzystując funkcję `geopandas.read_file()` zaimportuj do notatnika dane z dołączonego do niego pliku (zakres importowanych danych i odwzorowanie kartograficzne nie wymagają zmian). Następnie, wykorzystując funkcję `geopandas.GeoDataFrame.dissolve()` przygotuj tablicę zawierającą geometrię granic całego kraju. Dostosuj informację znajdującą się w kolumnie \"Nazwa\" stworzonej tablicy do informacji w niej zawartej."
   ]
  },
  {
   "cell_type": "code",
   "execution_count": 5,
   "id": "1ec93e1d-9486-4e87-a1f2-ebdfdcc82dcc",
   "metadata": {
    "deletable": false,
    "nbgrader": {
     "cell_type": "code",
     "checksum": "b41bc26d1f24c651533203cf5fff20a9",
     "grade": true,
     "grade_id": "cell-9c5827e1303cedf5",
     "locked": false,
     "points": 5,
     "schema_version": 3,
     "solution": true,
     "task": false
    },
    "tags": []
   },
   "outputs": [],
   "source": [
    "# YOUR CODE HERE\n",
    "#print(help(pow.dissolve))\n",
    "pow = gpd.read_file(\"Powiaty.zip\")\n",
    "dane = pow.dissolve() #połączenie wielu poligonów w jeden\n",
    "dane.loc[0,'Nazwa'] = 'Polska'"
   ]
  },
  {
   "cell_type": "markdown",
   "id": "1a1467f6-2cab-4ba8-9b33-35ef815424ea",
   "metadata": {
    "deletable": false,
    "editable": false,
    "nbgrader": {
     "cell_type": "markdown",
     "checksum": "14dae65db12bffa2477ec7df41736aac",
     "grade": false,
     "grade_id": "cell-625a546ba20f1906",
     "locked": true,
     "schema_version": 3,
     "solution": false,
     "task": false
    },
    "tags": []
   },
   "source": [
    "### Zadanie 2: Jednorodny proces punktowy Poissona (15 pkt)\n",
    "\n",
    "Przygotuj funkcję `homogeneous_poisson_on_polygon()`, która będzie generować jednorodny proces punktowy Poissona w obrębie określonego obszaru.\n",
    "Następnie wykorzystaj przygotowaną funkcję do wygenerowania przykładowego rozkładu punktów i przedstaw go w postaci wykresu punktowego nałożonego na kontur granic kraju.\n",
    "\n",
    "Parametry rozkładu do wygenerowania:\n",
    " - intensywność procesu: $3 \\cdot 10^{-9} pkt/m^2$ \n",
    " - obszar: Polska\n",
    " - crs: idenyczny jak crs wczytanych danych\n",
    " \n",
    "Przydatne klasy, funkcje i własności:\n",
    "- `pointpats.as_window()`\n",
    "- `pointpats.Window()`\n",
    "- `pointpats.process.PoissonPointProcess()`\n",
    "- `geopandas.GeoSeries.area`\n",
    "- `geopandas.GeoSeries.from_xy()`\n",
    "- `geopandas.GeoSeries.crs`\n",
    "- `geopandas.GeoSeries.set_crs()`\n",
    "- `geopandas.GeoDataFrame.crs`\n",
    "- `geopandas.GeoDataFrame.set_crs()`\n",
    "- `geopandas2pysal()` - dostępna na początku notatnika"
   ]
  },
  {
   "cell_type": "markdown",
   "id": "0583fa17-e573-4a28-9dc7-24e0b96096ad",
   "metadata": {
    "deletable": false,
    "editable": false,
    "nbgrader": {
     "cell_type": "markdown",
     "checksum": "d4f264b3d74275fa5dfb391b6e9c96ea",
     "grade": false,
     "grade_id": "cell-1bc89af9b1f04864",
     "locked": true,
     "schema_version": 3,
     "solution": false,
     "task": false
    },
    "tags": []
   },
   "source": [
    "#### a) Przygotowanie funkcji"
   ]
  },
  {
   "cell_type": "code",
   "execution_count": 8,
   "id": "cf7daeab-7a96-4044-af51-cd5d2c33c6ca",
   "metadata": {
    "deletable": false,
    "nbgrader": {
     "cell_type": "code",
     "checksum": "50d698628326d4e04d2928df280fa78f",
     "grade": true,
     "grade_id": "cell-e4b44f2f3cc8497c",
     "locked": false,
     "points": 10,
     "schema_version": 3,
     "solution": true,
     "task": false
    },
    "tags": []
   },
   "outputs": [],
   "source": [
    "def homogeneous_poisson_on_polygon(intensity, polygon, crs):\n",
    "    \"\"\"\n",
    "    Parameters\n",
    "    -------\n",
    "    intensity: float\n",
    "        Liczba dodatnia określająca intensywność procesu punktowego.\n",
    "    polygon: libpysal.cg.shapes.Polygon\n",
    "        Poligon określający obszar, na którym mają zostać wygenerowane punkty.\n",
    "    crs: str, pyproj.crs.crs.CRS\n",
    "        Informacja o odwzorowaniu kartograficznym, w który zapisany jest poligon i w którym mają być zapisane wygenerowane punkty.\n",
    "    Returns\n",
    "    -------\n",
    "    points: GeoSeries\n",
    "        Seria GeoPandas zawierająca wygnerowane punkty zapisane jako obiekty shapely.geometry.point.Point.\n",
    "    \"\"\"\n",
    "    # YOUR CODE HERE\n",
    "    wd=pp.as_window(polygon)\n",
    "    pkt=pp.process.PoissonPointProcess(wd, n=int(intensity*polygon.area), samples=1)\n",
    "    return gpd.GeoSeries.from_xy(pkt.realizations[0][:,0], pkt.realizations[0][:,1], crs=crs)\n",
    "    \n",
    "    \"\"\"\n",
    "    wd = pp.as_window(polygon)\n",
    "    wyn = pp.process.PoissonPointProcess(window=wd, n=int(intensity*polygon.area), samples=1, asPP=False, conditioning=True)\n",
    "    gs = gpd.GeoSeries.from_xy(x=wyn.realizations[0][:,0], y=wyn.realizations[0][:,1], crs=crs)\n",
    "    return gs\n",
    "    \"\"\"\n",
    "\n",
    "#help(pp.process.PoissonPointProcess)"
   ]
  },
  {
   "cell_type": "markdown",
   "id": "481f45eb-8b84-433d-9501-e6f1ee57877c",
   "metadata": {
    "deletable": false,
    "editable": false,
    "nbgrader": {
     "cell_type": "markdown",
     "checksum": "8c8932090b24eee77b6c27e3d89fc5ac",
     "grade": false,
     "grade_id": "cell-b92fbdd2851f6a3f",
     "locked": true,
     "schema_version": 3,
     "solution": false,
     "task": false
    },
    "tags": []
   },
   "source": [
    "#### b) Wygenerowanie danych"
   ]
  },
  {
   "cell_type": "code",
   "execution_count": 9,
   "id": "717e5979-4778-405b-af3f-469ebc6f977c",
   "metadata": {
    "deletable": false,
    "nbgrader": {
     "cell_type": "code",
     "checksum": "a35c89328daa8b7cc6d4e7e56def68b7",
     "grade": true,
     "grade_id": "cell-0ed94a978d787136",
     "locked": false,
     "points": 3,
     "schema_version": 3,
     "solution": true,
     "task": false
    },
    "tags": []
   },
   "outputs": [],
   "source": [
    "# YOUR CODE HERE\n",
    "dane2 = geopandas2pysal(dane.loc[0,\"geometry\"])\n",
    "pkt2 = homogeneous_poisson_on_polygon(3e-09, dane2, dane.crs)\n",
    "#print(pkt2)\n",
    "#help(pp.process.PoissonPointProcess)\n",
    "#n - ile chcemy pkt\n",
    "#sample - ile chcemy losowan, my uzywamy 1, wiecej to do monte carlo\n",
    "#conditioning - false -> losujemy dokl n, true->rozkl poisson z n czyli okolo n, chcemy true\n",
    "#asPP - wybor formatu docelowego"
   ]
  },
  {
   "cell_type": "markdown",
   "id": "7c1b1469-1029-4123-88c0-68d6d5fe5430",
   "metadata": {
    "deletable": false,
    "editable": false,
    "nbgrader": {
     "cell_type": "markdown",
     "checksum": "75b64fe7819b03582d6a39a0d0c583fd",
     "grade": false,
     "grade_id": "cell-ce0b928588465bba",
     "locked": true,
     "schema_version": 3,
     "solution": false,
     "task": false
    },
    "tags": []
   },
   "source": [
    "#### c) Wizualizacja"
   ]
  },
  {
   "cell_type": "code",
   "execution_count": 10,
   "id": "0f9c6037-d753-4f42-8008-d876dc19a8f3",
   "metadata": {
    "deletable": false,
    "nbgrader": {
     "cell_type": "code",
     "checksum": "0fdbc3604e1071c9d6194cb3832ad52b",
     "grade": true,
     "grade_id": "cell-74e43f9493c75079",
     "locked": false,
     "points": 2,
     "schema_version": 3,
     "solution": true,
     "task": false
    },
    "tags": []
   },
   "outputs": [
    {
     "data": {
      "image/png": "[encoded data removed]",
      "text/plain": [
       "<Figure size 1500x1000 with 1 Axes>"
      ]
     },
     "metadata": {},
     "output_type": "display_data"
    }
   ],
   "source": [
    "# YOUR CODE HERE\n",
    "#help(pp.process.PoissonPointProcess)\n",
    "fig, ax = plt.subplots(figsize = (15,10))\n",
    "fig.suptitle('Wygenerowane punkty z rozkładu Poissona', size=20)\n",
    "dane.boundary.plot(color='black', ax = ax, linewidth=0.3)\n",
    "pkt2.plot(color='red', markersize=7, ax=ax)\n",
    "ax.set_aspect(1)\n",
    "ax.set_xlabel('X')\n",
    "ax.set_ylabel('Y')\n",
    "plt.show()"
   ]
  },
  {
   "cell_type": "markdown",
   "id": "57721a1b-8853-408f-abc3-c8db2a800574",
   "metadata": {
    "deletable": false,
    "editable": false,
    "nbgrader": {
     "cell_type": "markdown",
     "checksum": "102ffca3c0351422a3ec137be722d8fa",
     "grade": false,
     "grade_id": "cell-dfa8337d0b8fc488",
     "locked": true,
     "schema_version": 3,
     "solution": false,
     "task": false
    },
    "tags": []
   },
   "source": [
    "### Zadanie 3: Sklasteryzowany proces punktowy Poissona (15 pkt)\n",
    "\n",
    "Przygotuj funkcję `clustered_poisson_on_polygon()`, która będzie generować sklasteryzowany proces punktowy Poissona (proces Neymana-Scotta) w obrębie określonego obszaru.\n",
    "Następnie wykorzystaj przygotowaną funkcję do wygenerowania przykładowego rozkładu punktów i przedstaw go w postaci wykresu punktowego nałożonego na kontur granic kraju.\n",
    "\n",
    "Parametry rozkładu do wygenerowania:\n",
    " - intensywność procesu macierzystego: $0.5 \\cdot 10^{-10} pkt/m^2$ \n",
    " - liczba punktów: $1000$\n",
    " - promień klastra: $50 km$\n",
    " - obszar: Polska\n",
    " - crs: idenyczny jak crs wczytanych danych\n",
    "\n",
    "Przydatne klasy, funkcje i własności:\n",
    "- `pointpats.as_window()`\n",
    "- `pointpats.Window()`\n",
    "- `pointpats.process.PoissonClusterPointProcess()`\n",
    "- `geopandas.GeoSeries.area`\n",
    "- `geopandas.GeoSeries.from_xy()`\n",
    "- `geopandas.GeoSeries.crs`\n",
    "- `geopandas.GeoSeries.set_crs()`\n",
    "- `geopandas.GeoDataFrame.crs`\n",
    "- `geopandas.GeoDataFrame.set_crs()`\n",
    "- `geopandas2pysal()` - dostępna na początku notatnika"
   ]
  },
  {
   "cell_type": "markdown",
   "id": "fb05af60-c497-4597-bb5b-a7d416e2eb0f",
   "metadata": {
    "deletable": false,
    "editable": false,
    "nbgrader": {
     "cell_type": "markdown",
     "checksum": "822223a0b4588eca40e92a6bf60e803c",
     "grade": false,
     "grade_id": "cell-1087577613b13409",
     "locked": true,
     "schema_version": 3,
     "solution": false,
     "task": false
    },
    "tags": []
   },
   "source": [
    "#### a) Przygotowanie funkcji"
   ]
  },
  {
   "cell_type": "code",
   "execution_count": 11,
   "id": "5cb5bf62-70b5-4ec6-94ff-cf56c3a5b6c1",
   "metadata": {
    "deletable": false,
    "nbgrader": {
     "cell_type": "code",
     "checksum": "064bfd58c60f00eb1fcac41187e7f390",
     "grade": true,
     "grade_id": "cell-654dcd88171468d6",
     "locked": false,
     "points": 10,
     "schema_version": 3,
     "solution": true,
     "task": false
    },
    "tags": []
   },
   "outputs": [],
   "source": [
    "def clustered_poisson_on_polygon(parent_intensity, number_of_points, cluster_radius, polygon, crs):\n",
    "    \"\"\"\n",
    "    Parameters\n",
    "    -------\n",
    "    parent_intensity: float\n",
    "        Liczba dodatnia określająca intensywność macierzystego procesu punktowego.\n",
    "    number_of_points: int\n",
    "        Liczba dodatnia określająca ilość generowanych punktów.\n",
    "    cluster_radius: float\n",
    "        Liczba dodatnia określająca promień generowanych klastrów.\n",
    "    polygon: libpysal.cg.shapes.Polygon\n",
    "        Poligon określający obszar, na którym mają zostać wygenerowane punkty.\n",
    "    crs: str, pyproj.crs.crs.CRS\n",
    "        Informacja o odwzorowaniu kartograficznym, w który zapisany jest poligon i w którym mają być zapisane wygenerowane punkty.\n",
    "    Returns\n",
    "    -------\n",
    "    points: GeoSeries\n",
    "        Seria GeoPandas zawierająca wygnerowane punkty zapisane jako obiekty shapely.geometry.point.Point.\n",
    "    \"\"\"\n",
    "    wd=pp.as_window(polygon)\n",
    "    pkt=pp.process.PoissonClusterPointProcess(wd, number_of_points, int(parent_intensity*polygon.area), cluster_radius, 1, conditioning=True)\n",
    "    return gpd.GeoSeries.from_xy(pkt.realizations[0][:,0], pkt.realizations[0][:,1], crs=crs)\n",
    "    \"\"\"\n",
    "    wd = pp.as_window(polygon)\n",
    "    wyn = pp.process.PoissonClusterPointProcess(wd, number_of_points, parent_intensity*polygon.area, cluster_radius, samples=1, conditioning=True)\n",
    "    gs = gpd.GeoSeries.from_xy(x=wyn.realizations[0][:,0], y=wyn.realizations[0][:,1], crs=crs)\n",
    "    return gs\n",
    "    \"\"\"\n",
    "    \n",
    "#help(gpd.GeoSeries.from_xy)"
   ]
  },
  {
   "cell_type": "markdown",
   "id": "84933f87-3a3f-470e-8ea2-d439009e8235",
   "metadata": {
    "deletable": false,
    "editable": false,
    "nbgrader": {
     "cell_type": "markdown",
     "checksum": "27e9b7f92417ea2da117198a9d1b3937",
     "grade": false,
     "grade_id": "cell-dd9885b48a41143d",
     "locked": true,
     "schema_version": 3,
     "solution": false,
     "task": false
    },
    "tags": []
   },
   "source": [
    "#### b) Wygenerowanie danych"
   ]
  },
  {
   "cell_type": "code",
   "execution_count": null,
   "id": "f855936d-331f-4caf-a03f-d919eea63784",
   "metadata": {
    "deletable": false,
    "nbgrader": {
     "cell_type": "code",
     "checksum": "92e8cdd95c05e7be23b073c40808bf26",
     "grade": true,
     "grade_id": "cell-365dd21748abddad",
     "locked": false,
     "points": 3,
     "schema_version": 3,
     "solution": true,
     "task": false
    },
    "tags": []
   },
   "outputs": [],
   "source": [
    "pkt3 = clustered_poisson_on_polygon(0.5e-10, 1000, 50000, dane2, dane.crs)"
   ]
  },
  {
   "cell_type": "markdown",
   "id": "d44e969d-ee91-48dc-84ba-0f6baf6561b0",
   "metadata": {
    "deletable": false,
    "editable": false,
    "nbgrader": {
     "cell_type": "markdown",
     "checksum": "cb258eeff51ec7014ca9535dd76a4c07",
     "grade": false,
     "grade_id": "cell-c62f53907330a368",
     "locked": true,
     "schema_version": 3,
     "solution": false,
     "task": false
    },
    "tags": []
   },
   "source": [
    "#### c) Wizualizacja"
   ]
  },
  {
   "cell_type": "code",
   "execution_count": null,
   "id": "312a31e4-887c-46f4-8ec7-f94af296547d",
   "metadata": {
    "deletable": false,
    "nbgrader": {
     "cell_type": "code",
     "checksum": "1b51e72978aa608fa9057c0f16453506",
     "grade": true,
     "grade_id": "cell-fb2498b3e75c66aa",
     "locked": false,
     "points": 2,
     "schema_version": 3,
     "solution": true,
     "task": false
    },
    "tags": []
   },
   "outputs": [],
   "source": [
    "# YOUR CODE HERE\n",
    "fig, ax = plt.subplots(figsize = (15,10))\n",
    "fig.suptitle('Wygenerowane punkty z rozkładu Poissona', size=20)\n",
    "dane.boundary.plot(color='black', ax = ax, linewidth=0.3)\n",
    "pkt3.plot(color='red', markersize=7, ax=ax)\n",
    "ax.set_aspect(1)\n",
    "ax.set_xlabel('X')\n",
    "ax.set_ylabel('Y')\n",
    "plt.show()"
   ]
  },
  {
   "cell_type": "markdown",
   "id": "c476ef77-d7a6-4169-a3b5-3cfd7c31d424",
   "metadata": {
    "deletable": false,
    "editable": false,
    "nbgrader": {
     "cell_type": "markdown",
     "checksum": "286b0251c350926a1cd3227f2bf52467",
     "grade": false,
     "grade_id": "cell-6c2c6349e2037fc6",
     "locked": true,
     "schema_version": 3,
     "solution": false,
     "task": false
    },
    "tags": []
   },
   "source": [
    "### Zadanie 4: Badanie intensywności procesów punktowych metodą szacowania lokalnego  (15 pkt)\n",
    "\n",
    "Przygotuj funkcję `point_count_on_subregions()`, która będzie zliczać punkty w obrębie podobszarów oraz funkcję `intensity_on_subregions()`, która będzie obliczać intensywność procesu punktowego w obrębie podobszarów.\n",
    "\n",
    "Następnie wykorzystaj przygotowane funkcje do zbadania intensywności wszystkich przygotowanych rozkładów punktów na obszarze poszczegolnych powiatów.\n",
    "\n",
    "Przedstaw wyniki analizy graficznie w postaci kartogramów z nałożonymi na nie rozkładami punktów. Zestaw wyniki na pojedynczej figurze (siatka wykresów 1x2).\n",
    "\n",
    "Przydatne klasy, funkcje i własności:\n",
    "- `geopandas.GeoSeries.within()`\n",
    "- `geopandas.GeoSeries.area`"
   ]
  },
  {
   "cell_type": "markdown",
   "id": "7087fae6-f368-4c57-ac58-be8ba11468d3",
   "metadata": {
    "deletable": false,
    "editable": false,
    "nbgrader": {
     "cell_type": "markdown",
     "checksum": "7affe3dd93972e485dbe28da24f0f253",
     "grade": false,
     "grade_id": "cell-9b9ad70bb5e2485c",
     "locked": true,
     "schema_version": 3,
     "solution": false,
     "task": false
    },
    "tags": []
   },
   "source": [
    "#### a) Przygotowanie funkcji"
   ]
  },
  {
   "cell_type": "code",
   "execution_count": null,
   "id": "82c49f3c-1c79-4709-9c4e-ee11d6811f3c",
   "metadata": {
    "deletable": false,
    "nbgrader": {
     "cell_type": "code",
     "checksum": "c60b2ad4ca18cda7ccdb2a0590e6f772",
     "grade": true,
     "grade_id": "cell-9e1182bcd41cd01f",
     "locked": false,
     "points": 10,
     "schema_version": 3,
     "solution": true,
     "task": false
    },
    "tags": []
   },
   "outputs": [],
   "source": [
    "def point_count_on_subregions(points, subregions):\n",
    "    \"\"\"\n",
    "    Parameters\n",
    "    -------\n",
    "    points: GeoSeries\n",
    "        Tablica zawierająca punkty zapisane jako obiekty shapely.geometry.point.Point.\n",
    "    subregions: GeoDataFrame\n",
    "        Tablica zawierająca geometrie podobszarów zapisane jako obiekty shapely.geometry.polygon.Polygon.\n",
    "    Returns\n",
    "    -------\n",
    "    counts: Series\n",
    "        Seria Pandas zawierająca liczbą punktów przypisanych do każdego z podobszarów.\n",
    "    \"\"\"\n",
    "    wyn=np.zeros(len(subregions))\n",
    "    for i in range(len(subregions)):\n",
    "        wyn[i]=np.sum(points.within(subregions['geometry'][i]))\n",
    "    return wyn\n",
    "\n",
    "    \"\"\"\n",
    "    ar=np.zeros(len(subregions))\n",
    "    for i in range(len(subregions)):\n",
    "        ar[i]=sum(points.within(subregions['geometry'][i]))\n",
    "\n",
    "    return pd.Series(ar)\n",
    "    \"\"\"\n",
    "\n",
    "def intensity_on_subregions(points, subregions):\n",
    "    \"\"\"\n",
    "    Parameters\n",
    "    -------\n",
    "    points: GeoSeries\n",
    "        Tablica zawierająca punkty zapisane jako obiekty shapely.geometry.point.Point.\n",
    "    subregions: GeoDataFrame\n",
    "        Tablica zawierająca geometrie podobszarów zapisane jako obiekty shapely.geometry.polygon.Polygon.\n",
    "    Returns\n",
    "    -------\n",
    "    counts: Series\n",
    "        Seria Pandas zawierająca intensywność przypisaną do każdego z podobszarów.\n",
    "    \"\"\"\n",
    "    return point_count_on_subregions(points,subregions)/(subregions.area)\n",
    "    \n",
    "    \n",
    "    \n",
    "    \"\"\"\n",
    "    return point_count_on_subregions(points, subregions)/(subregions.area)\n",
    "    \"\"\""
   ]
  },
  {
   "cell_type": "markdown",
   "id": "25e0b799-9e30-4a2e-b006-0a2157491bf5",
   "metadata": {
    "deletable": false,
    "editable": false,
    "nbgrader": {
     "cell_type": "markdown",
     "checksum": "3dde546378c2fa66cd6e00baa5cf0eb0",
     "grade": false,
     "grade_id": "cell-df86c9567ba9912a",
     "locked": true,
     "schema_version": 3,
     "solution": false,
     "task": false
    },
    "tags": []
   },
   "source": [
    "#### b) Wygenerowanie danych"
   ]
  },
  {
   "cell_type": "code",
   "execution_count": null,
   "id": "29c2c996-773f-4c6d-a001-c234ff81a4b2",
   "metadata": {
    "deletable": false,
    "nbgrader": {
     "cell_type": "code",
     "checksum": "49cc5cbb4e3751df5b233a37b572b31c",
     "grade": true,
     "grade_id": "cell-9d8de79d2a5fc0e0",
     "locked": false,
     "points": 2,
     "schema_version": 3,
     "solution": true,
     "task": false
    },
    "tags": []
   },
   "outputs": [],
   "source": [
    "# YOUR CODE HERE\n",
    "inten2=intensity_on_subregions(pkt2, pow)\n",
    "inten3=intensity_on_subregions(pkt3, pow)"
   ]
  },
  {
   "cell_type": "markdown",
   "id": "8ffcd3e8-9805-42be-bb8b-ff996f20a1ba",
   "metadata": {
    "deletable": false,
    "editable": false,
    "nbgrader": {
     "cell_type": "markdown",
     "checksum": "7122d78500816d9762d616a76b8afaba",
     "grade": false,
     "grade_id": "cell-6f7270052576178f",
     "locked": true,
     "schema_version": 3,
     "solution": false,
     "task": false
    },
    "tags": []
   },
   "source": [
    "#### c) Wizualizacja"
   ]
  },
  {
   "cell_type": "code",
   "execution_count": null,
   "id": "f2fad7f2-cf1c-46ea-a894-cd655dacb33e",
   "metadata": {
    "deletable": false,
    "nbgrader": {
     "cell_type": "code",
     "checksum": "b9fa30748c7bba854f6b8f6bbe23b095",
     "grade": true,
     "grade_id": "cell-13b058f90f158e9a",
     "locked": false,
     "points": 3,
     "schema_version": 3,
     "solution": true,
     "task": false
    },
    "tags": []
   },
   "outputs": [],
   "source": [
    "# YOUR CODE HERE\n",
    "fig,ax = plt.subplots(1,2,figsize=(20,10))\n",
    "fig.suptitle('Intensywność wystąpienia punktów w powiatach', size=32)\n",
    "\n",
    "\n",
    "pow.plot(column=inten2, ax=ax[0], cmap='Reds')\n",
    "ax[0].set_aspect(1) #to chyba tutaj nic nie zmienia\n",
    "ax[0].set_title('Jednorodny proces Poissona', size=24)\n",
    "pkt2.plot(color='blue', markersize=1, alpha=0.5, ax=ax[0])\n",
    "\n",
    "pow.plot(column=inten3, ax=ax[1], cmap='Reds')\n",
    "ax[1].set_aspect(1)\n",
    "ax[1].set_title('Sklasteryzowany proces Poissona', size=24)\n",
    "pkt3.plot(color='blue', markersize=1, alpha=0.5, ax=ax[1])\n",
    "\n",
    "\n",
    "plt.show()"
   ]
  },
  {
   "cell_type": "code",
   "execution_count": null,
   "id": "6be44e42-5889-4c0b-9aab-cea38cceef29",
   "metadata": {},
   "outputs": [],
   "source": []
  }
 ],
 "metadata": {
  "kernelspec": {
   "display_name": "Python 3 (ipykernel)",
   "language": "python",
   "name": "python3"
  },
  "language_info": {
   "codemirror_mode": {
    "name": "ipython",
    "version": 3
   },
   "file_extension": ".py",
   "mimetype": "text/x-python",
   "name": "python",
   "nbconvert_exporter": "python",
   "pygments_lexer": "ipython3",
   "version": "3.10.2"
  }
 },
 "nbformat": 4,
 "nbformat_minor": 5
}
